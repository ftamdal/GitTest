{
 "cells": [
  {
   "cell_type": "code",
   "execution_count": 1,
   "metadata": {},
   "outputs": [
    {
     "name": "stdout",
     "output_type": "stream",
     "text": [
      "Collecting package metadata (current_repodata.json): done\n",
      "Solving environment: done\n",
      "\n",
      "# All requested packages already installed.\n",
      "\n",
      "\n",
      "Note: you may need to restart the kernel to use updated packages.\n"
     ]
    }
   ],
   "source": [
    "  conda install -c conda-forge ipython-sql"
   ]
  },
  {
   "cell_type": "markdown",
   "metadata": {},
   "source": [
    "Assignment Instructions:\n",
    "\n",
    "1.Install [Anaconda](https://www.anaconda.com/products/individual):\n",
    "\n",
    "    Take Python 3.x version (not 2.x)\n",
    "    \n",
    "    Select “Add Anaconda to System PATH” during installation\n",
    "\n",
    "\n",
    "2.Jupyter notebook is part of the Anaconda package.\n",
    "\n",
    "    Open the console (on Windows: open Anaconda Prompt) and run command\n",
    "\n",
    "    jupyter notebook\n",
    " \n",
    "\n",
    "3.Open \"Assignment_1.ipynb\" in Jupyter Notebook.\n",
    "\n",
    "\n",
    "\n",
    "When we want to work with SQL easily in an Ipython notebook, we'll load the ipython-sql extension.\n",
    "\n",
    "To install ipython-sql with Anaconda, using the [command](https://anaconda.org/conda-forge/ipython-sql):\n",
    "\n",
    "    conda install -c conda-forge ipython-sql\n",
    "\n",
    "**Note: DO NOT PANIC** \n",
    "* Don't worry if you get (a) a big red-highlighted warning or (b) a note that the extension has already been loaded!  As long as your SQL commands work, it's loaded properly!"
   ]
  },
  {
   "cell_type": "code",
   "execution_count": null,
   "metadata": {},
   "outputs": [],
   "source": [
    "Fredda er kul"
   ]
  },
  {
   "cell_type": "code",
   "execution_count": 2,
   "metadata": {},
   "outputs": [],
   "source": [
    "%load_ext sql"
   ]
  },
  {
   "cell_type": "markdown",
   "metadata": {},
   "source": [
    "Next, load an SQLite database stored as a file as follows:\n",
    "\n",
    "**NOTE: We load a file below (here, \"Movie-Rating.db\", which must be in the same directory as the notebook. You'll use this file throughout the first assignment. Make sure to download the from the BlackBoard exercise webpage!!**"
   ]
  },
  {
   "cell_type": "code",
   "execution_count": 3,
   "metadata": {},
   "outputs": [
    {
     "data": {
      "text/plain": [
       "'Connected: @Movie-Rating.db'"
      ]
     },
     "execution_count": 3,
     "metadata": {},
     "output_type": "execute_result"
    }
   ],
   "source": [
    "%sql sqlite:///Movie-Rating.db"
   ]
  },
  {
   "cell_type": "markdown",
   "metadata": {},
   "source": [
    "**`%sql` is used for single line SQL commands:**"
   ]
  },
  {
   "cell_type": "code",
   "execution_count": 4,
   "metadata": {},
   "outputs": [
    {
     "name": "stdout",
     "output_type": "stream",
     "text": [
      " * sqlite:///Movie-Rating.db\n",
      "Done.\n"
     ]
    },
    {
     "data": {
      "text/html": [
       "<table>\n",
       "    <tr>\n",
       "        <th>mID</th>\n",
       "        <th>title</th>\n",
       "        <th>year</th>\n",
       "        <th>director</th>\n",
       "    </tr>\n",
       "    <tr>\n",
       "        <td>101</td>\n",
       "        <td>Gone with the Wind</td>\n",
       "        <td>1939</td>\n",
       "        <td>Victor Fleming</td>\n",
       "    </tr>\n",
       "</table>"
      ],
      "text/plain": [
       "[(101, 'Gone with the Wind', 1939, 'Victor Fleming')]"
      ]
     },
     "execution_count": 4,
     "metadata": {},
     "output_type": "execute_result"
    }
   ],
   "source": [
    "%sql SELECT * FROM Movie LIMIT 1;"
   ]
  },
  {
   "cell_type": "markdown",
   "metadata": {},
   "source": [
    "And **`%%sql` is used for multi-line SQL commands:**"
   ]
  },
  {
   "cell_type": "code",
   "execution_count": 5,
   "metadata": {},
   "outputs": [
    {
     "name": "stdout",
     "output_type": "stream",
     "text": [
      " * sqlite:///Movie-Rating.db\n",
      "Done.\n"
     ]
    },
    {
     "data": {
      "text/html": [
       "<table>\n",
       "    <tr>\n",
       "        <th>SUM(r.stars)</th>\n",
       "    </tr>\n",
       "    <tr>\n",
       "        <td>9</td>\n",
       "    </tr>\n",
       "</table>"
      ],
      "text/plain": [
       "[(9,)]"
      ]
     },
     "execution_count": 5,
     "metadata": {},
     "output_type": "execute_result"
    }
   ],
   "source": [
    "%%sql\n",
    "SELECT SUM(r.stars) \n",
    "FROM Rating r, Movie m\n",
    "WHERE m.mID = r.mID AND m.year = 1939;"
   ]
  },
  {
   "cell_type": "markdown",
   "metadata": {},
   "source": [
    "**Assignment Descriptions**\n",
    "\n",
    "You've started a new movie-rating website, and you've been collecting data on reviewers' ratings of various movies. There's\n",
    "not much data yet, but you can still try out some interesting queries. Here's the schema:\n",
    "\n",
    "Movie ( mID, title, year, director )\n",
    "Explanation: There is a movie with ID number mID, a title, a release year, and a director.\n",
    "\n",
    "Reviewer ( rID, name )\n",
    "Explanation: The reviewer with ID number rID has a certain name.\n",
    "\n",
    "Rating ( rID, mID, stars, ratingDate )\n",
    "Explanation: The reviewer rID gave the movie mID a number of stars rating (1-5) on a certain ratingDate.\n",
    "\n",
    "Your queries will run over a small data set conforming to the schema. You can see the data overview in the file 8- data overview.pdf.\n",
    "\n",
    "**Instructions**\n",
    "\n",
    "Each problem asks you to write a query in SQL. You can run your code by clicking Run button on the top of the page.\n",
    "\n",
    "**Important Notes**\n",
    "\n",
    "1- Your queries are executed using SQLite, so you must conform to the SQL constructs supported by SQLite.\n",
    "\n",
    "2- Unless a specific result ordering is asked for, you can return the result rows in any order.\n",
    "\n",
    "3- You are to translate the English into a SQL query that computes the desired result over all possible databases. I will give you the correct output two weeks later as a reference. However, just to check the answer is not enough. This means for our small sample database, even if your answer is correct, it is possible that your query does not correctly reflect the problem at hand. (For example, if we ask for a complex condition that requires accessing all of the tables, but over our small data set in the end the condition is satisfied only by Star Wars, then the query \"select title from Movie where title = 'Star Wars'\" will get correct answer even though it doesn't reflect the actual question.) Circumventing the system in this fashion is not a good idea to help you learn SQL. On the other hand, an incorrect attempt at a general solution is unlikely to produce the right answer, so you shouldn't be led astray by just checking the answer.\n",
    "\n",
    "**Assignment Questions**\n",
    "\n",
    "This assignment includes three exercises **[Movie-Rating Query Exercises], [Movie-Rating Query Exercises Extras]** and **[Movie-Rating Modification Exercises]**. All questions for Movie-Rating Query Excercises are mandatory for Exercise Assignment-1. Fill your answers in this template. The answer to the first question of the first exercise is given as an example.\n",
    "\n",
    "**What to hand in:**\n",
    "\n",
    "1. Generate a HTML report from this notebook template with answers (File > Download as > HTML).\n",
    "2. This \"Assignment_1.ipynb\" file with answers."
   ]
  },
  {
   "cell_type": "markdown",
   "metadata": {},
   "source": [
    "Movie-Rating Query Exercises, Q1:\n",
    "Find the titles of all movies directed by Steven Spielberg."
   ]
  },
  {
   "cell_type": "code",
   "execution_count": 6,
   "metadata": {},
   "outputs": [
    {
     "name": "stdout",
     "output_type": "stream",
     "text": [
      " * sqlite:///Movie-Rating.db\n",
      "Done.\n"
     ]
    },
    {
     "data": {
      "text/html": [
       "<table>\n",
       "    <tr>\n",
       "        <th>title</th>\n",
       "    </tr>\n",
       "    <tr>\n",
       "        <td>E.T.</td>\n",
       "    </tr>\n",
       "    <tr>\n",
       "        <td>Raiders of the Lost Ark</td>\n",
       "    </tr>\n",
       "</table>"
      ],
      "text/plain": [
       "[('E.T.',), ('Raiders of the Lost Ark',)]"
      ]
     },
     "execution_count": 6,
     "metadata": {},
     "output_type": "execute_result"
    }
   ],
   "source": [
    "%sql SELECT title FROM movie WHERE director = 'Steven Spielberg';"
   ]
  },
  {
   "cell_type": "markdown",
   "metadata": {},
   "source": [
    "Movie-Rating Query Exercises, Q2:\n",
    "\n",
    "Find all years that have a movie that received a rating of 4 or 5, and sort them in increasing order."
   ]
  },
  {
   "cell_type": "code",
   "execution_count": 9,
   "metadata": {},
   "outputs": [
    {
     "name": "stdout",
     "output_type": "stream",
     "text": [
      " * sqlite:///Movie-Rating.db\n",
      "Done.\n"
     ]
    },
    {
     "data": {
      "text/html": [
       "<table>\n",
       "    <tr>\n",
       "        <th>strftime(&#x27;%Y&#x27;,ratingDate)</th>\n",
       "    </tr>\n",
       "    <tr>\n",
       "        <td>None</td>\n",
       "    </tr>\n",
       "    <tr>\n",
       "        <td>2011</td>\n",
       "    </tr>\n",
       "</table>"
      ],
      "text/plain": [
       "[(None,), ('2011',)]"
      ]
     },
     "execution_count": 9,
     "metadata": {},
     "output_type": "execute_result"
    }
   ],
   "source": [
    "%%sql\n",
    "SELECT DISTINCT strftime('%Y',ratingDate)\n",
    "FROM Movie, Rating\n",
    "WHERE Movie.mId = Rating.mId AND stars IN (4, 5)\n",
    "ORDER BY year;"
   ]
  },
  {
   "cell_type": "markdown",
   "metadata": {},
   "source": [
    "Movie-Rating Query Exercises, Q3:\n",
    "\n",
    "Find the titles of all movies that have no ratings."
   ]
  },
  {
   "cell_type": "code",
   "execution_count": 10,
   "metadata": {},
   "outputs": [
    {
     "name": "stdout",
     "output_type": "stream",
     "text": [
      " * sqlite:///Movie-Rating.db\n",
      "Done.\n"
     ]
    },
    {
     "data": {
      "text/html": [
       "<table>\n",
       "    <tr>\n",
       "        <th>title</th>\n",
       "    </tr>\n",
       "    <tr>\n",
       "        <td>Star Wars</td>\n",
       "    </tr>\n",
       "    <tr>\n",
       "        <td>Titanic</td>\n",
       "    </tr>\n",
       "</table>"
      ],
      "text/plain": [
       "[('Star Wars',), ('Titanic',)]"
      ]
     },
     "execution_count": 10,
     "metadata": {},
     "output_type": "execute_result"
    }
   ],
   "source": [
    "%%sql\n",
    "SELECT title\n",
    "FROM Movie\n",
    "WHERE mId NOT IN (SELECT mID FROM Rating);"
   ]
  },
  {
   "cell_type": "markdown",
   "metadata": {},
   "source": [
    "Movie-Rating Query Exercises, Q4:\n",
    "\n",
    "Some reviewers didn't provide a date with their rating. Find the names of all reviewers who have ratings with a NULL value\n",
    "for the date."
   ]
  },
  {
   "cell_type": "code",
   "execution_count": 11,
   "metadata": {},
   "outputs": [
    {
     "name": "stdout",
     "output_type": "stream",
     "text": [
      " * sqlite:///Movie-Rating.db\n",
      "Done.\n"
     ]
    },
    {
     "data": {
      "text/html": [
       "<table>\n",
       "    <tr>\n",
       "        <th>name</th>\n",
       "    </tr>\n",
       "    <tr>\n",
       "        <td>Daniel Lewis</td>\n",
       "    </tr>\n",
       "    <tr>\n",
       "        <td>Chris Jackson</td>\n",
       "    </tr>\n",
       "</table>"
      ],
      "text/plain": [
       "[('Daniel Lewis',), ('Chris Jackson',)]"
      ]
     },
     "execution_count": 11,
     "metadata": {},
     "output_type": "execute_result"
    }
   ],
   "source": [
    "%%sql\n",
    "SELECT name\n",
    "FROM Reviewer\n",
    "INNER JOIN Rating USING(rId)\n",
    "WHERE ratingDate IS NULL;"
   ]
  },
  {
   "cell_type": "markdown",
   "metadata": {},
   "source": [
    "Movie-Rating Query Exercises, Q5:\n",
    "\n",
    "Write a query to return the ratings data in a more readable format: reviewer name, movie title, stars, and ratingDate. Also,\n",
    "sort the data, first by reviewer name, then by movie title, and lastly by number of stars."
   ]
  },
  {
   "cell_type": "code",
   "execution_count": 12,
   "metadata": {},
   "outputs": [
    {
     "name": "stdout",
     "output_type": "stream",
     "text": [
      " * sqlite:///Movie-Rating.db\n",
      "Done.\n"
     ]
    },
    {
     "data": {
      "text/html": [
       "<table>\n",
       "    <tr>\n",
       "        <th>name</th>\n",
       "        <th>title</th>\n",
       "        <th>stars</th>\n",
       "        <th>ratingDate</th>\n",
       "    </tr>\n",
       "    <tr>\n",
       "        <td>Ashley White</td>\n",
       "        <td>E.T.</td>\n",
       "        <td>3</td>\n",
       "        <td>2011-01-02</td>\n",
       "    </tr>\n",
       "    <tr>\n",
       "        <td>Brittany Harris</td>\n",
       "        <td>Raiders of the Lost Ark</td>\n",
       "        <td>2</td>\n",
       "        <td>2011-01-30</td>\n",
       "    </tr>\n",
       "    <tr>\n",
       "        <td>Brittany Harris</td>\n",
       "        <td>Raiders of the Lost Ark</td>\n",
       "        <td>4</td>\n",
       "        <td>2011-01-12</td>\n",
       "    </tr>\n",
       "    <tr>\n",
       "        <td>Brittany Harris</td>\n",
       "        <td>The Sound of Music</td>\n",
       "        <td>2</td>\n",
       "        <td>2011-01-20</td>\n",
       "    </tr>\n",
       "    <tr>\n",
       "        <td>Chris Jackson</td>\n",
       "        <td>E.T.</td>\n",
       "        <td>2</td>\n",
       "        <td>2011-01-22</td>\n",
       "    </tr>\n",
       "    <tr>\n",
       "        <td>Chris Jackson</td>\n",
       "        <td>Raiders of the Lost Ark</td>\n",
       "        <td>4</td>\n",
       "        <td>None</td>\n",
       "    </tr>\n",
       "    <tr>\n",
       "        <td>Chris Jackson</td>\n",
       "        <td>The Sound of Music</td>\n",
       "        <td>3</td>\n",
       "        <td>2011-01-27</td>\n",
       "    </tr>\n",
       "    <tr>\n",
       "        <td>Daniel Lewis</td>\n",
       "        <td>Snow White</td>\n",
       "        <td>4</td>\n",
       "        <td>None</td>\n",
       "    </tr>\n",
       "    <tr>\n",
       "        <td>Elizabeth Thomas</td>\n",
       "        <td>Avatar</td>\n",
       "        <td>3</td>\n",
       "        <td>2011-01-15</td>\n",
       "    </tr>\n",
       "    <tr>\n",
       "        <td>Elizabeth Thomas</td>\n",
       "        <td>Snow White</td>\n",
       "        <td>5</td>\n",
       "        <td>2011-01-19</td>\n",
       "    </tr>\n",
       "    <tr>\n",
       "        <td>James Cameron</td>\n",
       "        <td>Avatar</td>\n",
       "        <td>5</td>\n",
       "        <td>2011-01-20</td>\n",
       "    </tr>\n",
       "    <tr>\n",
       "        <td>Mike Anderson</td>\n",
       "        <td>Gone with the Wind</td>\n",
       "        <td>3</td>\n",
       "        <td>2011-01-09</td>\n",
       "    </tr>\n",
       "    <tr>\n",
       "        <td>Sarah Martinez</td>\n",
       "        <td>Gone with the Wind</td>\n",
       "        <td>2</td>\n",
       "        <td>2011-01-22</td>\n",
       "    </tr>\n",
       "    <tr>\n",
       "        <td>Sarah Martinez</td>\n",
       "        <td>Gone with the Wind</td>\n",
       "        <td>4</td>\n",
       "        <td>2011-01-27</td>\n",
       "    </tr>\n",
       "</table>"
      ],
      "text/plain": [
       "[('Ashley White', 'E.T.', 3, '2011-01-02'),\n",
       " ('Brittany Harris', 'Raiders of the Lost Ark', 2, '2011-01-30'),\n",
       " ('Brittany Harris', 'Raiders of the Lost Ark', 4, '2011-01-12'),\n",
       " ('Brittany Harris', 'The Sound of Music', 2, '2011-01-20'),\n",
       " ('Chris Jackson', 'E.T.', 2, '2011-01-22'),\n",
       " ('Chris Jackson', 'Raiders of the Lost Ark', 4, None),\n",
       " ('Chris Jackson', 'The Sound of Music', 3, '2011-01-27'),\n",
       " ('Daniel Lewis', 'Snow White', 4, None),\n",
       " ('Elizabeth Thomas', 'Avatar', 3, '2011-01-15'),\n",
       " ('Elizabeth Thomas', 'Snow White', 5, '2011-01-19'),\n",
       " ('James Cameron', 'Avatar', 5, '2011-01-20'),\n",
       " ('Mike Anderson', 'Gone with the Wind', 3, '2011-01-09'),\n",
       " ('Sarah Martinez', 'Gone with the Wind', 2, '2011-01-22'),\n",
       " ('Sarah Martinez', 'Gone with the Wind', 4, '2011-01-27')]"
      ]
     },
     "execution_count": 12,
     "metadata": {},
     "output_type": "execute_result"
    }
   ],
   "source": [
    "%%sql\n",
    "SELECT name, title, stars, ratingDate\n",
    "FROM Movie, Rating, Reviewer\n",
    "WHERE Movie.mId = Rating.mId AND Reviewer.rId = Rating.rId\n",
    "ORDER BY name, title, stars;"
   ]
  },
  {
   "cell_type": "markdown",
   "metadata": {},
   "source": [
    "Movie-Rating Query Exercises, Q6:\n",
    "\n",
    "For all cases where the same reviewer rated the same movie twice and gave it a higher rating the second time, return the\n",
    "reviewer's name and the title of the movie."
   ]
  },
  {
   "cell_type": "code",
   "execution_count": 13,
   "metadata": {},
   "outputs": [
    {
     "name": "stdout",
     "output_type": "stream",
     "text": [
      " * sqlite:///Movie-Rating.db\n",
      "Done.\n"
     ]
    },
    {
     "data": {
      "text/html": [
       "<table>\n",
       "    <tr>\n",
       "        <th>name</th>\n",
       "        <th>title</th>\n",
       "    </tr>\n",
       "    <tr>\n",
       "        <td>Sarah Martinez</td>\n",
       "        <td>Gone with the Wind</td>\n",
       "    </tr>\n",
       "</table>"
      ],
      "text/plain": [
       "[('Sarah Martinez', 'Gone with the Wind')]"
      ]
     },
     "execution_count": 13,
     "metadata": {},
     "output_type": "execute_result"
    }
   ],
   "source": [
    "%%sql\n",
    "SELECT name, title\n",
    "FROM Movie\n",
    "INNER JOIN Rating R1 USING(mId)\n",
    "INNER JOIN Rating R2 USING(rId)\n",
    "INNER JOIN Reviewer USING(rId)\n",
    "WHERE R1.mId = R2.mId AND R1.ratingDate < R2.ratingDate AND R1.stars < R2.stars;"
   ]
  },
  {
   "cell_type": "markdown",
   "metadata": {},
   "source": [
    "Movie-Rating Query Exercises, Q7:\n",
    "\n",
    "For each movie that has at least one rating, find the highest number of stars that movie received. Return the movie title and\n",
    "number of stars. Sort by movie title."
   ]
  },
  {
   "cell_type": "code",
   "execution_count": 14,
   "metadata": {},
   "outputs": [
    {
     "name": "stdout",
     "output_type": "stream",
     "text": [
      " * sqlite:///Movie-Rating.db\n",
      "Done.\n"
     ]
    },
    {
     "data": {
      "text/html": [
       "<table>\n",
       "    <tr>\n",
       "        <th>title</th>\n",
       "        <th>MAX(stars)</th>\n",
       "    </tr>\n",
       "    <tr>\n",
       "        <td>Avatar</td>\n",
       "        <td>5</td>\n",
       "    </tr>\n",
       "    <tr>\n",
       "        <td>E.T.</td>\n",
       "        <td>3</td>\n",
       "    </tr>\n",
       "    <tr>\n",
       "        <td>Gone with the Wind</td>\n",
       "        <td>4</td>\n",
       "    </tr>\n",
       "    <tr>\n",
       "        <td>Raiders of the Lost Ark</td>\n",
       "        <td>4</td>\n",
       "    </tr>\n",
       "    <tr>\n",
       "        <td>Snow White</td>\n",
       "        <td>5</td>\n",
       "    </tr>\n",
       "    <tr>\n",
       "        <td>The Sound of Music</td>\n",
       "        <td>3</td>\n",
       "    </tr>\n",
       "</table>"
      ],
      "text/plain": [
       "[('Avatar', 5),\n",
       " ('E.T.', 3),\n",
       " ('Gone with the Wind', 4),\n",
       " ('Raiders of the Lost Ark', 4),\n",
       " ('Snow White', 5),\n",
       " ('The Sound of Music', 3)]"
      ]
     },
     "execution_count": 14,
     "metadata": {},
     "output_type": "execute_result"
    }
   ],
   "source": [
    "%%sql\n",
    "SELECT title, MAX(stars)\n",
    "FROM Movie\n",
    "INNER JOIN Rating USING(mId)\n",
    "GROUP BY mId\n",
    "ORDER BY title;"
   ]
  },
  {
   "cell_type": "markdown",
   "metadata": {},
   "source": [
    "Movie-Rating Query Exercises, Q8:\n",
    "\n",
    "For each movie, return the title and the 'rating spread', that is, the difference between highest and lowest ratings given to that movie. Sort by rating spread from highest to lowest, then by movie title."
   ]
  },
  {
   "cell_type": "code",
   "execution_count": 15,
   "metadata": {},
   "outputs": [
    {
     "name": "stdout",
     "output_type": "stream",
     "text": [
      " * sqlite:///Movie-Rating.db\n",
      "Done.\n"
     ]
    },
    {
     "data": {
      "text/html": [
       "<table>\n",
       "    <tr>\n",
       "        <th>title</th>\n",
       "        <th>rating_spread</th>\n",
       "    </tr>\n",
       "    <tr>\n",
       "        <td>Avatar</td>\n",
       "        <td>2</td>\n",
       "    </tr>\n",
       "    <tr>\n",
       "        <td>Gone with the Wind</td>\n",
       "        <td>2</td>\n",
       "    </tr>\n",
       "    <tr>\n",
       "        <td>Raiders of the Lost Ark</td>\n",
       "        <td>2</td>\n",
       "    </tr>\n",
       "    <tr>\n",
       "        <td>E.T.</td>\n",
       "        <td>1</td>\n",
       "    </tr>\n",
       "    <tr>\n",
       "        <td>Snow White</td>\n",
       "        <td>1</td>\n",
       "    </tr>\n",
       "    <tr>\n",
       "        <td>The Sound of Music</td>\n",
       "        <td>1</td>\n",
       "    </tr>\n",
       "</table>"
      ],
      "text/plain": [
       "[('Avatar', 2),\n",
       " ('Gone with the Wind', 2),\n",
       " ('Raiders of the Lost Ark', 2),\n",
       " ('E.T.', 1),\n",
       " ('Snow White', 1),\n",
       " ('The Sound of Music', 1)]"
      ]
     },
     "execution_count": 15,
     "metadata": {},
     "output_type": "execute_result"
    }
   ],
   "source": [
    "%%sql\n",
    "SELECT title, (MAX(stars) - MIN(stars)) AS rating_spread\n",
    "FROM Movie\n",
    "INNER JOIN Rating USING(mId)\n",
    "GROUP BY mId\n",
    "ORDER BY rating_spread DESC, title;"
   ]
  },
  {
   "cell_type": "markdown",
   "metadata": {},
   "source": [
    "Movie-Rating Query Exercises, Q9:\n",
    "\n",
    "Find the difference between the average rating of movies released before 1980 and the average rating of movies released\n",
    "after 1980. (Make sure to calculate the average rating for each movie, then the average of those averages for movies before\n",
    "1980 and movies after. Don't just calculate the overall average rating before and after 1980.)"
   ]
  },
  {
   "cell_type": "code",
   "execution_count": 16,
   "metadata": {},
   "outputs": [
    {
     "name": "stdout",
     "output_type": "stream",
     "text": [
      " * sqlite:///Movie-Rating.db\n",
      "Done.\n"
     ]
    },
    {
     "data": {
      "text/html": [
       "<table>\n",
       "    <tr>\n",
       "        <th>AVG(Before1980.avg) - AVG(After1980.avg)</th>\n",
       "    </tr>\n",
       "    <tr>\n",
       "        <td>0.0555555555555558</td>\n",
       "    </tr>\n",
       "</table>"
      ],
      "text/plain": [
       "[(0.0555555555555558,)]"
      ]
     },
     "execution_count": 16,
     "metadata": {},
     "output_type": "execute_result"
    }
   ],
   "source": [
    "%%sql\n",
    "SELECT AVG(Before1980.avg) - AVG(After1980.avg)\n",
    "FROM (\n",
    "  SELECT AVG(stars) AS avg\n",
    "  FROM Movie\n",
    "  INNER JOIN Rating USING(mId)\n",
    "  WHERE year < 1980\n",
    "  GROUP BY mId\n",
    ") AS Before1980, (\n",
    "  SELECT AVG(stars) AS avg\n",
    "  FROM Movie\n",
    "  INNER JOIN Rating USING(mId)\n",
    "  WHERE year > 1980\n",
    "  GROUP BY mId\n",
    ") AS After1980;"
   ]
  },
  {
   "cell_type": "markdown",
   "metadata": {},
   "source": [
    "Movie-Rating Query Exercises Extras, Q1:\n",
    "\n",
    "Find the names of all reviewers who rated Gone with the Wind."
   ]
  },
  {
   "cell_type": "code",
   "execution_count": 17,
   "metadata": {},
   "outputs": [
    {
     "name": "stdout",
     "output_type": "stream",
     "text": [
      " * sqlite:///Movie-Rating.db\n",
      "Done.\n"
     ]
    },
    {
     "data": {
      "text/html": [
       "<table>\n",
       "    <tr>\n",
       "        <th>name</th>\n",
       "    </tr>\n",
       "    <tr>\n",
       "        <td>Sarah Martinez</td>\n",
       "    </tr>\n",
       "    <tr>\n",
       "        <td>Mike Anderson</td>\n",
       "    </tr>\n",
       "</table>"
      ],
      "text/plain": [
       "[('Sarah Martinez',), ('Mike Anderson',)]"
      ]
     },
     "execution_count": 17,
     "metadata": {},
     "output_type": "execute_result"
    }
   ],
   "source": [
    "%%sql\n",
    "SELECT DISTINCT name\n",
    "FROM Movie\n",
    "INNER JOIN Rating USING(mId)\n",
    "INNER JOIN Reviewer USING(rId)\n",
    "WHERE title = \"Gone with the Wind\";"
   ]
  },
  {
   "cell_type": "markdown",
   "metadata": {},
   "source": [
    "Movie-Rating Query Exercises Extras, Q2:\n",
    "\n",
    "For any rating where the reviewer is the same as the director of the movie, return the reviewer name, movie title, and\n",
    "number of stars."
   ]
  },
  {
   "cell_type": "code",
   "execution_count": 18,
   "metadata": {},
   "outputs": [
    {
     "name": "stdout",
     "output_type": "stream",
     "text": [
      " * sqlite:///Movie-Rating.db\n",
      "Done.\n"
     ]
    },
    {
     "data": {
      "text/html": [
       "<table>\n",
       "    <tr>\n",
       "        <th>name</th>\n",
       "        <th>title</th>\n",
       "        <th>stars</th>\n",
       "    </tr>\n",
       "    <tr>\n",
       "        <td>James Cameron</td>\n",
       "        <td>Avatar</td>\n",
       "        <td>5</td>\n",
       "    </tr>\n",
       "</table>"
      ],
      "text/plain": [
       "[('James Cameron', 'Avatar', 5)]"
      ]
     },
     "execution_count": 18,
     "metadata": {},
     "output_type": "execute_result"
    }
   ],
   "source": [
    "%%sql\n",
    "SELECT name, title, stars\n",
    "FROM Movie\n",
    "INNER JOIN Rating USING(mId)\n",
    "INNER JOIN Reviewer USING(rId)\n",
    "WHERE director = name;"
   ]
  },
  {
   "cell_type": "markdown",
   "metadata": {},
   "source": [
    "Movie-Rating Query Exercises Extras, Q3:\n",
    "\n",
    "Return all reviewer names and movie names together in a single list, alphabetized. (Sorting by the first name of the reviewer\n",
    "and first word in the title is fine; no need for special processing on last names or removing \"The\".)"
   ]
  },
  {
   "cell_type": "code",
   "execution_count": 19,
   "metadata": {},
   "outputs": [
    {
     "name": "stdout",
     "output_type": "stream",
     "text": [
      " * sqlite:///Movie-Rating.db\n",
      "Done.\n"
     ]
    },
    {
     "data": {
      "text/html": [
       "<table>\n",
       "    <tr>\n",
       "        <th>title</th>\n",
       "    </tr>\n",
       "    <tr>\n",
       "        <td>Ashley White</td>\n",
       "    </tr>\n",
       "    <tr>\n",
       "        <td>Avatar</td>\n",
       "    </tr>\n",
       "    <tr>\n",
       "        <td>Brittany Harris</td>\n",
       "    </tr>\n",
       "    <tr>\n",
       "        <td>Chris Jackson</td>\n",
       "    </tr>\n",
       "    <tr>\n",
       "        <td>Daniel Lewis</td>\n",
       "    </tr>\n",
       "    <tr>\n",
       "        <td>E.T.</td>\n",
       "    </tr>\n",
       "    <tr>\n",
       "        <td>Elizabeth Thomas</td>\n",
       "    </tr>\n",
       "    <tr>\n",
       "        <td>Gone with the Wind</td>\n",
       "    </tr>\n",
       "    <tr>\n",
       "        <td>James Cameron</td>\n",
       "    </tr>\n",
       "    <tr>\n",
       "        <td>Mike Anderson</td>\n",
       "    </tr>\n",
       "    <tr>\n",
       "        <td>Raiders of the Lost Ark</td>\n",
       "    </tr>\n",
       "    <tr>\n",
       "        <td>Sarah Martinez</td>\n",
       "    </tr>\n",
       "    <tr>\n",
       "        <td>Snow White</td>\n",
       "    </tr>\n",
       "    <tr>\n",
       "        <td>Star Wars</td>\n",
       "    </tr>\n",
       "    <tr>\n",
       "        <td>The Sound of Music</td>\n",
       "    </tr>\n",
       "    <tr>\n",
       "        <td>Titanic</td>\n",
       "    </tr>\n",
       "</table>"
      ],
      "text/plain": [
       "[('Ashley White',),\n",
       " ('Avatar',),\n",
       " ('Brittany Harris',),\n",
       " ('Chris Jackson',),\n",
       " ('Daniel Lewis',),\n",
       " ('E.T.',),\n",
       " ('Elizabeth Thomas',),\n",
       " ('Gone with the Wind',),\n",
       " ('James Cameron',),\n",
       " ('Mike Anderson',),\n",
       " ('Raiders of the Lost Ark',),\n",
       " ('Sarah Martinez',),\n",
       " ('Snow White',),\n",
       " ('Star Wars',),\n",
       " ('The Sound of Music',),\n",
       " ('Titanic',)]"
      ]
     },
     "execution_count": 19,
     "metadata": {},
     "output_type": "execute_result"
    }
   ],
   "source": [
    "%%sql\n",
    "SELECT title FROM Movie\n",
    "UNION\n",
    "SELECT name FROM Reviewer\n",
    "ORDER BY name, title;"
   ]
  },
  {
   "cell_type": "markdown",
   "metadata": {},
   "source": [
    "Movie-Rating Query Exercises Extras, Q4:\n",
    "\n",
    "Find the titles of all movies not reviewed by Chris Jackson."
   ]
  },
  {
   "cell_type": "code",
   "execution_count": 20,
   "metadata": {},
   "outputs": [
    {
     "name": "stdout",
     "output_type": "stream",
     "text": [
      " * sqlite:///Movie-Rating.db\n",
      "Done.\n"
     ]
    },
    {
     "data": {
      "text/html": [
       "<table>\n",
       "    <tr>\n",
       "        <th>title</th>\n",
       "    </tr>\n",
       "    <tr>\n",
       "        <td>Gone with the Wind</td>\n",
       "    </tr>\n",
       "    <tr>\n",
       "        <td>Star Wars</td>\n",
       "    </tr>\n",
       "    <tr>\n",
       "        <td>Titanic</td>\n",
       "    </tr>\n",
       "    <tr>\n",
       "        <td>Snow White</td>\n",
       "    </tr>\n",
       "    <tr>\n",
       "        <td>Avatar</td>\n",
       "    </tr>\n",
       "</table>"
      ],
      "text/plain": [
       "[('Gone with the Wind',),\n",
       " ('Star Wars',),\n",
       " ('Titanic',),\n",
       " ('Snow White',),\n",
       " ('Avatar',)]"
      ]
     },
     "execution_count": 20,
     "metadata": {},
     "output_type": "execute_result"
    }
   ],
   "source": [
    "%%sql\n",
    "SELECT title\n",
    "FROM Movie\n",
    "WHERE mId NOT IN (\n",
    "  SELECT mId\n",
    "  FROM Rating\n",
    "  INNER JOIN Reviewer USING(rId)\n",
    "  WHERE name = \"Chris Jackson\"\n",
    ");"
   ]
  },
  {
   "cell_type": "markdown",
   "metadata": {},
   "source": [
    "Movie-Rating Query Exercises Extras, Q5:\n",
    "\n",
    "For all pairs of reviewers such that both reviewers gave a rating to the same movie, return the names of both reviewers.\n",
    "Eliminate duplicates, don't pair reviewers with themselves, and include each pair only once. For each pair, return the names\n",
    "in the pair in alphabetical order."
   ]
  },
  {
   "cell_type": "code",
   "execution_count": 21,
   "metadata": {},
   "outputs": [
    {
     "name": "stdout",
     "output_type": "stream",
     "text": [
      " * sqlite:///Movie-Rating.db\n",
      "Done.\n"
     ]
    },
    {
     "data": {
      "text/html": [
       "<table>\n",
       "    <tr>\n",
       "        <th>name</th>\n",
       "        <th>name_1</th>\n",
       "    </tr>\n",
       "    <tr>\n",
       "        <td>Ashley White</td>\n",
       "        <td>Chris Jackson</td>\n",
       "    </tr>\n",
       "    <tr>\n",
       "        <td>Brittany Harris</td>\n",
       "        <td>Chris Jackson</td>\n",
       "    </tr>\n",
       "    <tr>\n",
       "        <td>Daniel Lewis</td>\n",
       "        <td>Elizabeth Thomas</td>\n",
       "    </tr>\n",
       "    <tr>\n",
       "        <td>Elizabeth Thomas</td>\n",
       "        <td>James Cameron</td>\n",
       "    </tr>\n",
       "    <tr>\n",
       "        <td>Mike Anderson</td>\n",
       "        <td>Sarah Martinez</td>\n",
       "    </tr>\n",
       "</table>"
      ],
      "text/plain": [
       "[('Ashley White', 'Chris Jackson'),\n",
       " ('Brittany Harris', 'Chris Jackson'),\n",
       " ('Daniel Lewis', 'Elizabeth Thomas'),\n",
       " ('Elizabeth Thomas', 'James Cameron'),\n",
       " ('Mike Anderson', 'Sarah Martinez')]"
      ]
     },
     "execution_count": 21,
     "metadata": {},
     "output_type": "execute_result"
    }
   ],
   "source": [
    "%%sql\n",
    "SELECT DISTINCT Re1.name, Re2.name\n",
    "FROM Rating R1, Rating R2, Reviewer Re1, Reviewer Re2\n",
    "WHERE R1.mID = R2.mID\n",
    "AND R1.rID = Re1.rID\n",
    "AND R2.rID = Re2.rID\n",
    "AND Re1.name < Re2.name\n",
    "ORDER BY Re1.name, Re2.name;"
   ]
  },
  {
   "cell_type": "markdown",
   "metadata": {},
   "source": [
    "Movie-Rating Query Exercises Extras, Q6:\n",
    "\n",
    "For each rating that is the lowest (fewest stars) currently in the database, return the reviewer name, movie title, and number\n",
    "of stars."
   ]
  },
  {
   "cell_type": "code",
   "execution_count": 22,
   "metadata": {},
   "outputs": [
    {
     "name": "stdout",
     "output_type": "stream",
     "text": [
      " * sqlite:///Movie-Rating.db\n",
      "Done.\n"
     ]
    },
    {
     "data": {
      "text/html": [
       "<table>\n",
       "    <tr>\n",
       "        <th>name</th>\n",
       "        <th>title</th>\n",
       "        <th>stars</th>\n",
       "    </tr>\n",
       "    <tr>\n",
       "        <td>Sarah Martinez</td>\n",
       "        <td>Gone with the Wind</td>\n",
       "        <td>2</td>\n",
       "    </tr>\n",
       "    <tr>\n",
       "        <td>Brittany Harris</td>\n",
       "        <td>The Sound of Music</td>\n",
       "        <td>2</td>\n",
       "    </tr>\n",
       "    <tr>\n",
       "        <td>Brittany Harris</td>\n",
       "        <td>Raiders of the Lost Ark</td>\n",
       "        <td>2</td>\n",
       "    </tr>\n",
       "    <tr>\n",
       "        <td>Chris Jackson</td>\n",
       "        <td>E.T.</td>\n",
       "        <td>2</td>\n",
       "    </tr>\n",
       "</table>"
      ],
      "text/plain": [
       "[('Sarah Martinez', 'Gone with the Wind', 2),\n",
       " ('Brittany Harris', 'The Sound of Music', 2),\n",
       " ('Brittany Harris', 'Raiders of the Lost Ark', 2),\n",
       " ('Chris Jackson', 'E.T.', 2)]"
      ]
     },
     "execution_count": 22,
     "metadata": {},
     "output_type": "execute_result"
    }
   ],
   "source": [
    "%%sql\n",
    "SELECT name, title, stars\n",
    "FROM Movie\n",
    "INNER JOIN Rating USING(mId)\n",
    "INNER JOIN Reviewer USING(rId)\n",
    "WHERE stars = (SELECT MIN(stars) FROM Rating);"
   ]
  },
  {
   "cell_type": "markdown",
   "metadata": {},
   "source": [
    "Movie-Rating Query Exercises Extras, Q7:\n",
    "\n",
    "List movie titles and average ratings, from highest-rated to lowest-rated. If two or more movies have the same average rating,\n",
    "list them in alphabetical order."
   ]
  },
  {
   "cell_type": "code",
   "execution_count": 23,
   "metadata": {},
   "outputs": [
    {
     "name": "stdout",
     "output_type": "stream",
     "text": [
      " * sqlite:///Movie-Rating.db\n",
      "Done.\n"
     ]
    },
    {
     "data": {
      "text/html": [
       "<table>\n",
       "    <tr>\n",
       "        <th>title</th>\n",
       "        <th>average</th>\n",
       "    </tr>\n",
       "    <tr>\n",
       "        <td>Snow White</td>\n",
       "        <td>4.5</td>\n",
       "    </tr>\n",
       "    <tr>\n",
       "        <td>Avatar</td>\n",
       "        <td>4.0</td>\n",
       "    </tr>\n",
       "    <tr>\n",
       "        <td>Raiders of the Lost Ark</td>\n",
       "        <td>3.3333333333333335</td>\n",
       "    </tr>\n",
       "    <tr>\n",
       "        <td>Gone with the Wind</td>\n",
       "        <td>3.0</td>\n",
       "    </tr>\n",
       "    <tr>\n",
       "        <td>E.T.</td>\n",
       "        <td>2.5</td>\n",
       "    </tr>\n",
       "    <tr>\n",
       "        <td>The Sound of Music</td>\n",
       "        <td>2.5</td>\n",
       "    </tr>\n",
       "</table>"
      ],
      "text/plain": [
       "[('Snow White', 4.5),\n",
       " ('Avatar', 4.0),\n",
       " ('Raiders of the Lost Ark', 3.3333333333333335),\n",
       " ('Gone with the Wind', 3.0),\n",
       " ('E.T.', 2.5),\n",
       " ('The Sound of Music', 2.5)]"
      ]
     },
     "execution_count": 23,
     "metadata": {},
     "output_type": "execute_result"
    }
   ],
   "source": [
    "%%sql\n",
    "SELECT title, AVG(stars) AS average\n",
    "FROM Movie\n",
    "INNER JOIN Rating USING(mId)\n",
    "GROUP BY mId\n",
    "ORDER BY average DESC, title;"
   ]
  },
  {
   "cell_type": "markdown",
   "metadata": {},
   "source": [
    "Movie-Rating Query Exercises Extras, Q8:\n",
    "\n",
    "Find the names of all reviewers who have contributed three or more ratings. (As an extra challenge, try writing the query\n",
    "without HAVING or without COUNT.)"
   ]
  },
  {
   "cell_type": "code",
   "execution_count": 24,
   "metadata": {},
   "outputs": [
    {
     "name": "stdout",
     "output_type": "stream",
     "text": [
      " * sqlite:///Movie-Rating.db\n",
      "Done.\n"
     ]
    },
    {
     "data": {
      "text/html": [
       "<table>\n",
       "    <tr>\n",
       "        <th>name</th>\n",
       "    </tr>\n",
       "    <tr>\n",
       "        <td>Brittany Harris</td>\n",
       "    </tr>\n",
       "    <tr>\n",
       "        <td>Chris Jackson</td>\n",
       "    </tr>\n",
       "</table>"
      ],
      "text/plain": [
       "[('Brittany Harris',), ('Chris Jackson',)]"
      ]
     },
     "execution_count": 24,
     "metadata": {},
     "output_type": "execute_result"
    }
   ],
   "source": [
    "%%sql\n",
    "SELECT name\n",
    "FROM Reviewer\n",
    "INNER JOIN Rating USING(rId)\n",
    "GROUP BY rId\n",
    "HAVING COUNT(*) >= 3;"
   ]
  },
  {
   "cell_type": "markdown",
   "metadata": {},
   "source": [
    "Movie-Rating Query Exercises Extras, Q9:\n",
    "\n",
    "Some directors directed more than one movie. For all such directors, return the titles of all movies directed by them, along\n",
    "with the director name. Sort by director name, then movie title. (As an extra challenge, try writing the query both with and\n",
    "without COUNT.)"
   ]
  },
  {
   "cell_type": "code",
   "execution_count": 25,
   "metadata": {},
   "outputs": [
    {
     "name": "stdout",
     "output_type": "stream",
     "text": [
      " * sqlite:///Movie-Rating.db\n",
      "Done.\n"
     ]
    },
    {
     "data": {
      "text/html": [
       "<table>\n",
       "    <tr>\n",
       "        <th>title</th>\n",
       "        <th>director</th>\n",
       "    </tr>\n",
       "    <tr>\n",
       "        <td>Avatar</td>\n",
       "        <td>James Cameron</td>\n",
       "    </tr>\n",
       "    <tr>\n",
       "        <td>Titanic</td>\n",
       "        <td>James Cameron</td>\n",
       "    </tr>\n",
       "    <tr>\n",
       "        <td>E.T.</td>\n",
       "        <td>Steven Spielberg</td>\n",
       "    </tr>\n",
       "    <tr>\n",
       "        <td>Raiders of the Lost Ark</td>\n",
       "        <td>Steven Spielberg</td>\n",
       "    </tr>\n",
       "</table>"
      ],
      "text/plain": [
       "[('Avatar', 'James Cameron'),\n",
       " ('Titanic', 'James Cameron'),\n",
       " ('E.T.', 'Steven Spielberg'),\n",
       " ('Raiders of the Lost Ark', 'Steven Spielberg')]"
      ]
     },
     "execution_count": 25,
     "metadata": {},
     "output_type": "execute_result"
    }
   ],
   "source": [
    "%%sql\n",
    "SELECT title, director\n",
    "FROM Movie M1\n",
    "WHERE (SELECT COUNT(*) FROM Movie M2 WHERE M1.director = M2.director) > 1\n",
    "ORDER BY director, title;"
   ]
  },
  {
   "cell_type": "markdown",
   "metadata": {},
   "source": [
    "Movie-Rating Query Exercises Extras, Q10:\n",
    "\n",
    "Find the movie(s) with the highest average rating. Return the movie title(s) and average rating. (Hint: This query is more\n",
    "difficult to write in SQLite than other systems; you might think of it as finding the highest average rating and then choosing\n",
    "the movie(s) with that average rating.)"
   ]
  },
  {
   "cell_type": "code",
   "execution_count": 26,
   "metadata": {},
   "outputs": [
    {
     "name": "stdout",
     "output_type": "stream",
     "text": [
      " * sqlite:///Movie-Rating.db\n",
      "Done.\n"
     ]
    },
    {
     "data": {
      "text/html": [
       "<table>\n",
       "    <tr>\n",
       "        <th>title</th>\n",
       "        <th>average</th>\n",
       "    </tr>\n",
       "    <tr>\n",
       "        <td>Snow White</td>\n",
       "        <td>4.5</td>\n",
       "    </tr>\n",
       "</table>"
      ],
      "text/plain": [
       "[('Snow White', 4.5)]"
      ]
     },
     "execution_count": 26,
     "metadata": {},
     "output_type": "execute_result"
    }
   ],
   "source": [
    "%%sql\n",
    "SELECT title, AVG(stars) AS average\n",
    "FROM Movie\n",
    "INNER JOIN Rating USING(mId)\n",
    "GROUP BY mId\n",
    "HAVING average = (\n",
    "  SELECT MAX(average_stars)\n",
    "  FROM (\n",
    "    SELECT title, AVG(stars) AS average_stars\n",
    "    FROM Movie\n",
    "    INNER JOIN Rating USING(mId)\n",
    "    GROUP BY mId\n",
    "  )\n",
    ");"
   ]
  },
  {
   "cell_type": "markdown",
   "metadata": {},
   "source": [
    "Movie-Rating Query Exercises Extras, Q11:\n",
    "\n",
    "Find the movie(s) with the lowest average rating. Return the movie title(s) and average rating. (Hint: This query may be more\n",
    "difficult to write in SQLite than other systems; you might think of it as finding the lowest average rating and then choosing\n",
    "the movie(s) with that average rating.)"
   ]
  },
  {
   "cell_type": "code",
   "execution_count": 27,
   "metadata": {},
   "outputs": [
    {
     "name": "stdout",
     "output_type": "stream",
     "text": [
      " * sqlite:///Movie-Rating.db\n",
      "Done.\n"
     ]
    },
    {
     "data": {
      "text/html": [
       "<table>\n",
       "    <tr>\n",
       "        <th>title</th>\n",
       "        <th>average</th>\n",
       "    </tr>\n",
       "    <tr>\n",
       "        <td>The Sound of Music</td>\n",
       "        <td>2.5</td>\n",
       "    </tr>\n",
       "    <tr>\n",
       "        <td>E.T.</td>\n",
       "        <td>2.5</td>\n",
       "    </tr>\n",
       "</table>"
      ],
      "text/plain": [
       "[('The Sound of Music', 2.5), ('E.T.', 2.5)]"
      ]
     },
     "execution_count": 27,
     "metadata": {},
     "output_type": "execute_result"
    }
   ],
   "source": [
    "%%sql\n",
    "SELECT title, AVG(stars) AS average\n",
    "FROM Movie\n",
    "INNER JOIN Rating USING(mId)\n",
    "GROUP BY mId\n",
    "HAVING average = (\n",
    "  SELECT MIN(average_stars)\n",
    "  FROM (\n",
    "    SELECT title, AVG(stars) AS average_stars\n",
    "    FROM Movie\n",
    "    INNER JOIN Rating USING(mId)\n",
    "    GROUP BY mId\n",
    "  )\n",
    ");"
   ]
  },
  {
   "cell_type": "markdown",
   "metadata": {},
   "source": [
    "Movie-Rating Query Exercises Extras, Q12:\n",
    "\n",
    "For each director, return the director's name together with the title(s) of the movie(s) they directed that received the highest\n",
    "rating among all of their movies, and the value of that rating. Ignore movies whose director is NULL."
   ]
  },
  {
   "cell_type": "code",
   "execution_count": 28,
   "metadata": {},
   "outputs": [
    {
     "name": "stdout",
     "output_type": "stream",
     "text": [
      " * sqlite:///Movie-Rating.db\n",
      "Done.\n"
     ]
    },
    {
     "data": {
      "text/html": [
       "<table>\n",
       "    <tr>\n",
       "        <th>director</th>\n",
       "        <th>title</th>\n",
       "        <th>MAX(stars)</th>\n",
       "    </tr>\n",
       "    <tr>\n",
       "        <td>James Cameron</td>\n",
       "        <td>Avatar</td>\n",
       "        <td>5</td>\n",
       "    </tr>\n",
       "    <tr>\n",
       "        <td>Robert Wise</td>\n",
       "        <td>The Sound of Music</td>\n",
       "        <td>3</td>\n",
       "    </tr>\n",
       "    <tr>\n",
       "        <td>Steven Spielberg</td>\n",
       "        <td>Raiders of the Lost Ark</td>\n",
       "        <td>4</td>\n",
       "    </tr>\n",
       "    <tr>\n",
       "        <td>Victor Fleming</td>\n",
       "        <td>Gone with the Wind</td>\n",
       "        <td>4</td>\n",
       "    </tr>\n",
       "</table>"
      ],
      "text/plain": [
       "[('James Cameron', 'Avatar', 5),\n",
       " ('Robert Wise', 'The Sound of Music', 3),\n",
       " ('Steven Spielberg', 'Raiders of the Lost Ark', 4),\n",
       " ('Victor Fleming', 'Gone with the Wind', 4)]"
      ]
     },
     "execution_count": 28,
     "metadata": {},
     "output_type": "execute_result"
    }
   ],
   "source": [
    "%%sql\n",
    "SELECT director, title, MAX(stars)\n",
    "FROM Movie\n",
    "INNER JOIN Rating USING(mId)\n",
    "WHERE director IS NOT NULL\n",
    "GROUP BY director;"
   ]
  },
  {
   "cell_type": "markdown",
   "metadata": {
    "collapsed": true
   },
   "source": [
    "**To check your data modification statement, we ran the following query after your modification: select * from Movie order by\n",
    "mID**\n",
    "\n",
    "Movie-Rating Modification Exercises, Q1:\n",
    "\n",
    "Add the reviewer Roger Ebert to your database, with an rID of 209."
   ]
  },
  {
   "cell_type": "code",
   "execution_count": 29,
   "metadata": {},
   "outputs": [
    {
     "name": "stdout",
     "output_type": "stream",
     "text": [
      " * sqlite:///Movie-Rating.db\n",
      "1 rows affected.\n",
      "Done.\n"
     ]
    },
    {
     "data": {
      "text/html": [
       "<table>\n",
       "    <tr>\n",
       "        <th>rID</th>\n",
       "        <th>name</th>\n",
       "    </tr>\n",
       "    <tr>\n",
       "        <td>201</td>\n",
       "        <td>Sarah Martinez</td>\n",
       "    </tr>\n",
       "    <tr>\n",
       "        <td>202</td>\n",
       "        <td>Daniel Lewis</td>\n",
       "    </tr>\n",
       "    <tr>\n",
       "        <td>203</td>\n",
       "        <td>Brittany Harris</td>\n",
       "    </tr>\n",
       "    <tr>\n",
       "        <td>204</td>\n",
       "        <td>Mike Anderson</td>\n",
       "    </tr>\n",
       "    <tr>\n",
       "        <td>205</td>\n",
       "        <td>Chris Jackson</td>\n",
       "    </tr>\n",
       "    <tr>\n",
       "        <td>206</td>\n",
       "        <td>Elizabeth Thomas</td>\n",
       "    </tr>\n",
       "    <tr>\n",
       "        <td>207</td>\n",
       "        <td>James Cameron</td>\n",
       "    </tr>\n",
       "    <tr>\n",
       "        <td>208</td>\n",
       "        <td>Ashley White</td>\n",
       "    </tr>\n",
       "    <tr>\n",
       "        <td>209</td>\n",
       "        <td>Roger Ebert</td>\n",
       "    </tr>\n",
       "</table>"
      ],
      "text/plain": [
       "[(201, 'Sarah Martinez'),\n",
       " (202, 'Daniel Lewis'),\n",
       " (203, 'Brittany Harris'),\n",
       " (204, 'Mike Anderson'),\n",
       " (205, 'Chris Jackson'),\n",
       " (206, 'Elizabeth Thomas'),\n",
       " (207, 'James Cameron'),\n",
       " (208, 'Ashley White'),\n",
       " (209, 'Roger Ebert')]"
      ]
     },
     "execution_count": 29,
     "metadata": {},
     "output_type": "execute_result"
    }
   ],
   "source": [
    "%%sql\n",
    "INSERT INTO Reviewer\n",
    "VALUES (209, \"Roger Ebert\");\n",
    "SELECT rID,name FROM Reviewer \n",
    "ORDER BY rID"
   ]
  },
  {
   "cell_type": "markdown",
   "metadata": {
    "collapsed": true
   },
   "source": [
    "Movie-Rating Modification Exercises, Q2:\n",
    "\n",
    "Insert 5-star ratings by James Cameron for all movies in the database. Leave the review date as NULL."
   ]
  },
  {
   "cell_type": "code",
   "execution_count": 30,
   "metadata": {},
   "outputs": [
    {
     "name": "stdout",
     "output_type": "stream",
     "text": [
      " * sqlite:///Movie-Rating.db\n",
      "8 rows affected.\n",
      "Done.\n"
     ]
    },
    {
     "data": {
      "text/html": [
       "<table>\n",
       "    <tr>\n",
       "        <th>rID</th>\n",
       "        <th>mID</th>\n",
       "        <th>stars</th>\n",
       "        <th>ratingDate</th>\n",
       "    </tr>\n",
       "    <tr>\n",
       "        <td>201</td>\n",
       "        <td>101</td>\n",
       "        <td>2</td>\n",
       "        <td>2011-01-22</td>\n",
       "    </tr>\n",
       "    <tr>\n",
       "        <td>201</td>\n",
       "        <td>101</td>\n",
       "        <td>4</td>\n",
       "        <td>2011-01-27</td>\n",
       "    </tr>\n",
       "    <tr>\n",
       "        <td>202</td>\n",
       "        <td>106</td>\n",
       "        <td>4</td>\n",
       "        <td>None</td>\n",
       "    </tr>\n",
       "    <tr>\n",
       "        <td>203</td>\n",
       "        <td>103</td>\n",
       "        <td>2</td>\n",
       "        <td>2011-01-20</td>\n",
       "    </tr>\n",
       "    <tr>\n",
       "        <td>203</td>\n",
       "        <td>108</td>\n",
       "        <td>4</td>\n",
       "        <td>2011-01-12</td>\n",
       "    </tr>\n",
       "    <tr>\n",
       "        <td>203</td>\n",
       "        <td>108</td>\n",
       "        <td>2</td>\n",
       "        <td>2011-01-30</td>\n",
       "    </tr>\n",
       "    <tr>\n",
       "        <td>204</td>\n",
       "        <td>101</td>\n",
       "        <td>3</td>\n",
       "        <td>2011-01-09</td>\n",
       "    </tr>\n",
       "    <tr>\n",
       "        <td>205</td>\n",
       "        <td>103</td>\n",
       "        <td>3</td>\n",
       "        <td>2011-01-27</td>\n",
       "    </tr>\n",
       "    <tr>\n",
       "        <td>205</td>\n",
       "        <td>104</td>\n",
       "        <td>2</td>\n",
       "        <td>2011-01-22</td>\n",
       "    </tr>\n",
       "    <tr>\n",
       "        <td>205</td>\n",
       "        <td>108</td>\n",
       "        <td>4</td>\n",
       "        <td>None</td>\n",
       "    </tr>\n",
       "    <tr>\n",
       "        <td>206</td>\n",
       "        <td>107</td>\n",
       "        <td>3</td>\n",
       "        <td>2011-01-15</td>\n",
       "    </tr>\n",
       "    <tr>\n",
       "        <td>206</td>\n",
       "        <td>106</td>\n",
       "        <td>5</td>\n",
       "        <td>2011-01-19</td>\n",
       "    </tr>\n",
       "    <tr>\n",
       "        <td>207</td>\n",
       "        <td>107</td>\n",
       "        <td>5</td>\n",
       "        <td>2011-01-20</td>\n",
       "    </tr>\n",
       "    <tr>\n",
       "        <td>208</td>\n",
       "        <td>104</td>\n",
       "        <td>3</td>\n",
       "        <td>2011-01-02</td>\n",
       "    </tr>\n",
       "    <tr>\n",
       "        <td>207</td>\n",
       "        <td>101</td>\n",
       "        <td>5</td>\n",
       "        <td>None</td>\n",
       "    </tr>\n",
       "    <tr>\n",
       "        <td>207</td>\n",
       "        <td>102</td>\n",
       "        <td>5</td>\n",
       "        <td>None</td>\n",
       "    </tr>\n",
       "    <tr>\n",
       "        <td>207</td>\n",
       "        <td>103</td>\n",
       "        <td>5</td>\n",
       "        <td>None</td>\n",
       "    </tr>\n",
       "    <tr>\n",
       "        <td>207</td>\n",
       "        <td>104</td>\n",
       "        <td>5</td>\n",
       "        <td>None</td>\n",
       "    </tr>\n",
       "    <tr>\n",
       "        <td>207</td>\n",
       "        <td>105</td>\n",
       "        <td>5</td>\n",
       "        <td>None</td>\n",
       "    </tr>\n",
       "    <tr>\n",
       "        <td>207</td>\n",
       "        <td>106</td>\n",
       "        <td>5</td>\n",
       "        <td>None</td>\n",
       "    </tr>\n",
       "    <tr>\n",
       "        <td>207</td>\n",
       "        <td>107</td>\n",
       "        <td>5</td>\n",
       "        <td>None</td>\n",
       "    </tr>\n",
       "    <tr>\n",
       "        <td>207</td>\n",
       "        <td>108</td>\n",
       "        <td>5</td>\n",
       "        <td>None</td>\n",
       "    </tr>\n",
       "</table>"
      ],
      "text/plain": [
       "[(201, 101, 2, '2011-01-22'),\n",
       " (201, 101, 4, '2011-01-27'),\n",
       " (202, 106, 4, None),\n",
       " (203, 103, 2, '2011-01-20'),\n",
       " (203, 108, 4, '2011-01-12'),\n",
       " (203, 108, 2, '2011-01-30'),\n",
       " (204, 101, 3, '2011-01-09'),\n",
       " (205, 103, 3, '2011-01-27'),\n",
       " (205, 104, 2, '2011-01-22'),\n",
       " (205, 108, 4, None),\n",
       " (206, 107, 3, '2011-01-15'),\n",
       " (206, 106, 5, '2011-01-19'),\n",
       " (207, 107, 5, '2011-01-20'),\n",
       " (208, 104, 3, '2011-01-02'),\n",
       " (207, 101, 5, None),\n",
       " (207, 102, 5, None),\n",
       " (207, 103, 5, None),\n",
       " (207, 104, 5, None),\n",
       " (207, 105, 5, None),\n",
       " (207, 106, 5, None),\n",
       " (207, 107, 5, None),\n",
       " (207, 108, 5, None)]"
      ]
     },
     "execution_count": 30,
     "metadata": {},
     "output_type": "execute_result"
    }
   ],
   "source": [
    "%%sql\n",
    "INSERT INTO Rating\n",
    "SELECT (SELECT rId FROM Reviewer WHERE name = \"James Cameron\"), mId, 5, NULL\n",
    "FROM Movie;\n",
    "SELECT rID,mID, stars, ratingDate FROM Rating"
   ]
  },
  {
   "cell_type": "markdown",
   "metadata": {
    "collapsed": true
   },
   "source": [
    "Movie-Rating Modification Exercises, Q3:\n",
    "\n",
    "For all movies that have an average rating of 4 stars or higher, add 25 to the release year. (Update the existing tuples; don't\n",
    "insert new tuples.)"
   ]
  },
  {
   "cell_type": "code",
   "execution_count": 31,
   "metadata": {},
   "outputs": [
    {
     "name": "stdout",
     "output_type": "stream",
     "text": [
      " * sqlite:///Movie-Rating.db\n",
      "4 rows affected.\n",
      "Done.\n"
     ]
    },
    {
     "data": {
      "text/html": [
       "<table>\n",
       "    <tr>\n",
       "        <th>mID</th>\n",
       "        <th>title</th>\n",
       "        <th>year</th>\n",
       "        <th>director</th>\n",
       "    </tr>\n",
       "    <tr>\n",
       "        <td>101</td>\n",
       "        <td>Gone with the Wind</td>\n",
       "        <td>1939</td>\n",
       "        <td>Victor Fleming</td>\n",
       "    </tr>\n",
       "    <tr>\n",
       "        <td>102</td>\n",
       "        <td>Star Wars</td>\n",
       "        <td>2002</td>\n",
       "        <td>George Lucas</td>\n",
       "    </tr>\n",
       "    <tr>\n",
       "        <td>103</td>\n",
       "        <td>The Sound of Music</td>\n",
       "        <td>1965</td>\n",
       "        <td>Robert Wise</td>\n",
       "    </tr>\n",
       "    <tr>\n",
       "        <td>104</td>\n",
       "        <td>E.T.</td>\n",
       "        <td>1982</td>\n",
       "        <td>Steven Spielberg</td>\n",
       "    </tr>\n",
       "    <tr>\n",
       "        <td>105</td>\n",
       "        <td>Titanic</td>\n",
       "        <td>2022</td>\n",
       "        <td>James Cameron</td>\n",
       "    </tr>\n",
       "    <tr>\n",
       "        <td>106</td>\n",
       "        <td>Snow White</td>\n",
       "        <td>1962</td>\n",
       "        <td>None</td>\n",
       "    </tr>\n",
       "    <tr>\n",
       "        <td>107</td>\n",
       "        <td>Avatar</td>\n",
       "        <td>2034</td>\n",
       "        <td>James Cameron</td>\n",
       "    </tr>\n",
       "    <tr>\n",
       "        <td>108</td>\n",
       "        <td>Raiders of the Lost Ark</td>\n",
       "        <td>1981</td>\n",
       "        <td>Steven Spielberg</td>\n",
       "    </tr>\n",
       "</table>"
      ],
      "text/plain": [
       "[(101, 'Gone with the Wind', 1939, 'Victor Fleming'),\n",
       " (102, 'Star Wars', 2002, 'George Lucas'),\n",
       " (103, 'The Sound of Music', 1965, 'Robert Wise'),\n",
       " (104, 'E.T.', 1982, 'Steven Spielberg'),\n",
       " (105, 'Titanic', 2022, 'James Cameron'),\n",
       " (106, 'Snow White', 1962, None),\n",
       " (107, 'Avatar', 2034, 'James Cameron'),\n",
       " (108, 'Raiders of the Lost Ark', 1981, 'Steven Spielberg')]"
      ]
     },
     "execution_count": 31,
     "metadata": {},
     "output_type": "execute_result"
    }
   ],
   "source": [
    "%%sql\n",
    "UPDATE Movie\n",
    "SET year = year + 25\n",
    "WHERE mId IN (\n",
    "  SELECT mId\n",
    "  FROM Movie\n",
    "  INNER JOIN Rating USING(mId)\n",
    "  GROUP BY mId\n",
    "  HAVING AVG(stars) >= 4\n",
    ");\n",
    "SELECT mID, title, year, director FROM Movie"
   ]
  },
  {
   "cell_type": "markdown",
   "metadata": {
    "collapsed": true
   },
   "source": [
    "Movie-Rating Modification Exercises, Q4:\n",
    "\n",
    "Remove all ratings where the movie's year is before 1970 or after 2000, and the rating is fewer than 4 stars."
   ]
  },
  {
   "cell_type": "code",
   "execution_count": 33,
   "metadata": {},
   "outputs": [
    {
     "name": "stdout",
     "output_type": "stream",
     "text": [
      " * sqlite:///Movie-Rating.db\n",
      "0 rows affected.\n",
      "Done.\n"
     ]
    },
    {
     "data": {
      "text/html": [
       "<table>\n",
       "    <tr>\n",
       "        <th>rID</th>\n",
       "        <th>mID</th>\n",
       "        <th>stars</th>\n",
       "        <th>ratingDate</th>\n",
       "    </tr>\n",
       "    <tr>\n",
       "        <td>201</td>\n",
       "        <td>101</td>\n",
       "        <td>4</td>\n",
       "        <td>2011-01-27</td>\n",
       "    </tr>\n",
       "    <tr>\n",
       "        <td>202</td>\n",
       "        <td>106</td>\n",
       "        <td>4</td>\n",
       "        <td>None</td>\n",
       "    </tr>\n",
       "    <tr>\n",
       "        <td>203</td>\n",
       "        <td>108</td>\n",
       "        <td>4</td>\n",
       "        <td>2011-01-12</td>\n",
       "    </tr>\n",
       "    <tr>\n",
       "        <td>203</td>\n",
       "        <td>108</td>\n",
       "        <td>2</td>\n",
       "        <td>2011-01-30</td>\n",
       "    </tr>\n",
       "    <tr>\n",
       "        <td>205</td>\n",
       "        <td>104</td>\n",
       "        <td>2</td>\n",
       "        <td>2011-01-22</td>\n",
       "    </tr>\n",
       "    <tr>\n",
       "        <td>205</td>\n",
       "        <td>108</td>\n",
       "        <td>4</td>\n",
       "        <td>None</td>\n",
       "    </tr>\n",
       "    <tr>\n",
       "        <td>206</td>\n",
       "        <td>106</td>\n",
       "        <td>5</td>\n",
       "        <td>2011-01-19</td>\n",
       "    </tr>\n",
       "    <tr>\n",
       "        <td>207</td>\n",
       "        <td>107</td>\n",
       "        <td>5</td>\n",
       "        <td>2011-01-20</td>\n",
       "    </tr>\n",
       "    <tr>\n",
       "        <td>208</td>\n",
       "        <td>104</td>\n",
       "        <td>3</td>\n",
       "        <td>2011-01-02</td>\n",
       "    </tr>\n",
       "</table>"
      ],
      "text/plain": [
       "[(201, 101, 4, '2011-01-27'),\n",
       " (202, 106, 4, None),\n",
       " (203, 108, 4, '2011-01-12'),\n",
       " (203, 108, 2, '2011-01-30'),\n",
       " (205, 104, 2, '2011-01-22'),\n",
       " (205, 108, 4, None),\n",
       " (206, 106, 5, '2011-01-19'),\n",
       " (207, 107, 5, '2011-01-20'),\n",
       " (208, 104, 3, '2011-01-02')]"
      ]
     },
     "execution_count": 33,
     "metadata": {},
     "output_type": "execute_result"
    }
   ],
   "source": [
    "%%sql\n",
    "DELETE FROM Rating\n",
    "WHERE mId IN (\n",
    "  SELECT mId\n",
    "  FROM Movie\n",
    "  WHERE year < 1970 OR year > 2000\n",
    ") AND stars < 4;\n",
    "SELECT rID, mID, stars, ratingDate FROM Rating"
   ]
  }
 ],
 "metadata": {
  "kernelspec": {
   "display_name": "Python 3",
   "language": "python",
   "name": "python3"
  },
  "language_info": {
   "codemirror_mode": {
    "name": "ipython",
    "version": 3
   },
   "file_extension": ".py",
   "mimetype": "text/x-python",
   "name": "python",
   "nbconvert_exporter": "python",
   "pygments_lexer": "ipython3",
   "version": "3.8.3"
  }
 },
 "nbformat": 4,
 "nbformat_minor": 2
}
